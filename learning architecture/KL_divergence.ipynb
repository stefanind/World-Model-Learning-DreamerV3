{
 "cells": [
  {
   "cell_type": "markdown",
   "id": "b635c04c",
   "metadata": {},
   "source": [
    "### Kullback-Leibler Divergence"
   ]
  },
  {
   "cell_type": "markdown",
   "id": "45031fe5",
   "metadata": {},
   "source": [
    "For two distributions q (the one I have) and p (the one I want to match), the KL divergence measures how different they are.  \n",
    "\n",
    "KL(q||p) = sum_i(q_i * log(q_i/p_i))\n",
    "\n",
    "It's always >= 0, and 0 only when q = p  \n",
    "It's asymmetric: KL(q||p) != KL(p||q)"
   ]
  },
  {
   "cell_type": "markdown",
   "id": "2d423196",
   "metadata": {},
   "source": []
  }
 ],
 "metadata": {
  "language_info": {
   "name": "python"
  }
 },
 "nbformat": 4,
 "nbformat_minor": 5
}
